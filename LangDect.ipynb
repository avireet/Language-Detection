{
 "cells": [
  {
   "cell_type": "markdown",
   "id": "5c928100",
   "metadata": {},
   "source": [
    "# Language Detection Using Natural Language Processing"
   ]
  },
  {
   "cell_type": "markdown",
   "id": "0e084eed",
   "metadata": {},
   "source": [
    "The idea behind language detection is based on the detection of the character among the expression and words in the text. The main principle is to detect commonly used words like to, of in English."
   ]
  },
  {
   "cell_type": "markdown",
   "id": "8c16f3f8",
   "metadata": {},
   "source": [
    "### About NLP:\n",
    "\n",
    "Natural Language Processing (NLP) is a subfield of computer science and artificial intelligence that deals with the interaction between computers and human languages. The primary goal of NLP is to enable computers to understand, interpret, and generate natural language, the way humans do.\n",
    "\n",
    "NLP involves a variety of techniques, including computational linguistics, machine learning, and statistical modeling. These techniques are used to analyze, understand, and manipulate human language data, including text, speech, and other forms of communication.\n",
    "\n",
    "Some of the main applications of NLP include language translation, speech recognition, sentiment analysis, text classification, and information retrieval. NLP is used in a wide range of industries, including finance, healthcare, education, and entertainment, to name a few."
   ]
  },
  {
   "cell_type": "markdown",
   "id": "c757f2f8",
   "metadata": {},
   "source": [
    "### Basic imports and Loading Dataset:"
   ]
  },
  {
   "cell_type": "code",
   "execution_count": 1,
   "id": "1760365d",
   "metadata": {},
   "outputs": [],
   "source": [
    "#For warning-\n",
    "\n",
    "import warnings\n",
    "warnings.simplefilter(\"ignore\")"
   ]
  },
  {
   "cell_type": "markdown",
   "id": "dfe175be",
   "metadata": {},
   "source": [
    "* By default, Python will print a warning message to the console whenever it encounters a potential problem. However, you can use the warnings module to control how warnings are handled. The warnings.simplefilter(\"ignore\") line tells Python to ignore all warnings."
   ]
  },
  {
   "cell_type": "code",
   "execution_count": 2,
   "id": "a4144fe0",
   "metadata": {},
   "outputs": [],
   "source": [
    "import pandas as pd\n",
    "import numpy as np\n",
    "import re\n",
    "import seaborn as sns\n",
    "import matplotlib.pyplot as plt"
   ]
  },
  {
   "cell_type": "markdown",
   "id": "89ef6433",
   "metadata": {},
   "source": [
    "* pandas (pd):  This is a powerful library for data manipulation and analysis. It provides data structures like DataFrames and Series, which can handle large datasets efficiently. You can use pandas to load data from various sources, clean and transform data, and perform data analysis.\n",
    "\n",
    "\n",
    "* numpy (np):  NumPy is a fundamental library for scientific computing in Python. It provides efficient operations on arrays and matrices, which are essential for many data analysis tasks. Pandas is built on top of NumPy, so you'll often use them together.\n",
    "\n",
    "\n",
    "* re:  The re library provides functions to work with regular expressions. Regular expressions are a powerful tool for searching, manipulating, and validating text. You can use them to extract specific information from text data, clean text data, and validate user input.\n",
    "\n",
    "\n",
    "* seaborn (sns):  Seaborn is a library built on top of matplotlib that provides a high-level interface for creating statistical graphics. It offers various plot types commonly used for data exploration and visualization.\n",
    "\n",
    "\n",
    "* matplotlib.pyplot (plt):  Matplotlib is a popular Python library for creating static, animated, and interactive visualizations. While seaborn provides a more user-friendly interface, matplotlib offers more control over the customization of plots."
   ]
  },
  {
   "cell_type": "code",
   "execution_count": 3,
   "id": "e04b935e",
   "metadata": {},
   "outputs": [],
   "source": [
    "#Loading Dataset-\n",
    "\n",
    "data = pd.read_csv(\"C:\\\\Users\\\\Dell\\\\Desktop\\\\Language Detection.csv\")"
   ]
  },
  {
   "cell_type": "markdown",
   "id": "118c3008",
   "metadata": {},
   "source": [
    "### Knowing about Dataset:"
   ]
  },
  {
   "cell_type": "code",
   "execution_count": 4,
   "id": "32f1d249",
   "metadata": {},
   "outputs": [
    {
     "data": {
      "text/html": [
       "<div>\n",
       "<style scoped>\n",
       "    .dataframe tbody tr th:only-of-type {\n",
       "        vertical-align: middle;\n",
       "    }\n",
       "\n",
       "    .dataframe tbody tr th {\n",
       "        vertical-align: top;\n",
       "    }\n",
       "\n",
       "    .dataframe thead th {\n",
       "        text-align: right;\n",
       "    }\n",
       "</style>\n",
       "<table border=\"1\" class=\"dataframe\">\n",
       "  <thead>\n",
       "    <tr style=\"text-align: right;\">\n",
       "      <th></th>\n",
       "      <th>Text</th>\n",
       "      <th>Language</th>\n",
       "    </tr>\n",
       "  </thead>\n",
       "  <tbody>\n",
       "    <tr>\n",
       "      <th>0</th>\n",
       "      <td>Nature, in the broadest sense, is the natural...</td>\n",
       "      <td>English</td>\n",
       "    </tr>\n",
       "    <tr>\n",
       "      <th>1</th>\n",
       "      <td>\"Nature\" can refer to the phenomena of the phy...</td>\n",
       "      <td>English</td>\n",
       "    </tr>\n",
       "    <tr>\n",
       "      <th>2</th>\n",
       "      <td>The study of nature is a large, if not the onl...</td>\n",
       "      <td>English</td>\n",
       "    </tr>\n",
       "    <tr>\n",
       "      <th>3</th>\n",
       "      <td>Although humans are part of nature, human acti...</td>\n",
       "      <td>English</td>\n",
       "    </tr>\n",
       "    <tr>\n",
       "      <th>4</th>\n",
       "      <td>[1] The word nature is borrowed from the Old F...</td>\n",
       "      <td>English</td>\n",
       "    </tr>\n",
       "    <tr>\n",
       "      <th>...</th>\n",
       "      <td>...</td>\n",
       "      <td>...</td>\n",
       "    </tr>\n",
       "    <tr>\n",
       "      <th>10332</th>\n",
       "      <td>ನಿಮ್ಮ ತಪ್ಪು ಏನು ಬಂದಿದೆಯೆಂದರೆ ಆ ದಿನದಿಂದ ನಿಮಗೆ ಒ...</td>\n",
       "      <td>Kannada</td>\n",
       "    </tr>\n",
       "    <tr>\n",
       "      <th>10333</th>\n",
       "      <td>ನಾರ್ಸಿಸಾ ತಾನು ಮೊದಲಿಗೆ ಹೆಣಗಾಡುತ್ತಿದ್ದ ಮಾರ್ಗಗಳನ್...</td>\n",
       "      <td>Kannada</td>\n",
       "    </tr>\n",
       "    <tr>\n",
       "      <th>10334</th>\n",
       "      <td>ಹೇಗೆ ' ನಾರ್ಸಿಸಿಸಮ್ ಈಗ ಮರಿಯನ್ ಅವರಿಗೆ ಸಂಭವಿಸಿದ ಎ...</td>\n",
       "      <td>Kannada</td>\n",
       "    </tr>\n",
       "    <tr>\n",
       "      <th>10335</th>\n",
       "      <td>ಅವಳು ಈಗ ಹೆಚ್ಚು ಚಿನ್ನದ ಬ್ರೆಡ್ ಬಯಸುವುದಿಲ್ಲ ಎಂದು ...</td>\n",
       "      <td>Kannada</td>\n",
       "    </tr>\n",
       "    <tr>\n",
       "      <th>10336</th>\n",
       "      <td>ಟೆರ್ರಿ ನೀವು ನಿಜವಾಗಿಯೂ ಆ ದೇವದೂತನಂತೆ ಸ್ವಲ್ಪ ಕಾಣು...</td>\n",
       "      <td>Kannada</td>\n",
       "    </tr>\n",
       "  </tbody>\n",
       "</table>\n",
       "<p>10337 rows × 2 columns</p>\n",
       "</div>"
      ],
      "text/plain": [
       "                                                    Text Language\n",
       "0       Nature, in the broadest sense, is the natural...  English\n",
       "1      \"Nature\" can refer to the phenomena of the phy...  English\n",
       "2      The study of nature is a large, if not the onl...  English\n",
       "3      Although humans are part of nature, human acti...  English\n",
       "4      [1] The word nature is borrowed from the Old F...  English\n",
       "...                                                  ...      ...\n",
       "10332  ನಿಮ್ಮ ತಪ್ಪು ಏನು ಬಂದಿದೆಯೆಂದರೆ ಆ ದಿನದಿಂದ ನಿಮಗೆ ಒ...  Kannada\n",
       "10333  ನಾರ್ಸಿಸಾ ತಾನು ಮೊದಲಿಗೆ ಹೆಣಗಾಡುತ್ತಿದ್ದ ಮಾರ್ಗಗಳನ್...  Kannada\n",
       "10334  ಹೇಗೆ ' ನಾರ್ಸಿಸಿಸಮ್ ಈಗ ಮರಿಯನ್ ಅವರಿಗೆ ಸಂಭವಿಸಿದ ಎ...  Kannada\n",
       "10335  ಅವಳು ಈಗ ಹೆಚ್ಚು ಚಿನ್ನದ ಬ್ರೆಡ್ ಬಯಸುವುದಿಲ್ಲ ಎಂದು ...  Kannada\n",
       "10336  ಟೆರ್ರಿ ನೀವು ನಿಜವಾಗಿಯೂ ಆ ದೇವದೂತನಂತೆ ಸ್ವಲ್ಪ ಕಾಣು...  Kannada\n",
       "\n",
       "[10337 rows x 2 columns]"
      ]
     },
     "execution_count": 4,
     "metadata": {},
     "output_type": "execute_result"
    }
   ],
   "source": [
    "data"
   ]
  },
  {
   "cell_type": "code",
   "execution_count": 5,
   "id": "8f518fcb",
   "metadata": {},
   "outputs": [
    {
     "name": "stdout",
     "output_type": "stream",
     "text": [
      "<class 'pandas.core.frame.DataFrame'>\n",
      "RangeIndex: 10337 entries, 0 to 10336\n",
      "Data columns (total 2 columns):\n",
      " #   Column    Non-Null Count  Dtype \n",
      "---  ------    --------------  ----- \n",
      " 0   Text      10337 non-null  object\n",
      " 1   Language  10337 non-null  object\n",
      "dtypes: object(2)\n",
      "memory usage: 161.6+ KB\n"
     ]
    }
   ],
   "source": [
    "#Getting familiar with the structure of the dataset-\n",
    "\n",
    "data.info()"
   ]
  },
  {
   "cell_type": "code",
   "execution_count": 6,
   "id": "606b9724",
   "metadata": {},
   "outputs": [
    {
     "data": {
      "text/html": [
       "<div>\n",
       "<style scoped>\n",
       "    .dataframe tbody tr th:only-of-type {\n",
       "        vertical-align: middle;\n",
       "    }\n",
       "\n",
       "    .dataframe tbody tr th {\n",
       "        vertical-align: top;\n",
       "    }\n",
       "\n",
       "    .dataframe thead th {\n",
       "        text-align: right;\n",
       "    }\n",
       "</style>\n",
       "<table border=\"1\" class=\"dataframe\">\n",
       "  <thead>\n",
       "    <tr style=\"text-align: right;\">\n",
       "      <th></th>\n",
       "      <th>Text</th>\n",
       "      <th>Language</th>\n",
       "    </tr>\n",
       "  </thead>\n",
       "  <tbody>\n",
       "    <tr>\n",
       "      <th>0</th>\n",
       "      <td>Nature, in the broadest sense, is the natural...</td>\n",
       "      <td>English</td>\n",
       "    </tr>\n",
       "    <tr>\n",
       "      <th>1</th>\n",
       "      <td>\"Nature\" can refer to the phenomena of the phy...</td>\n",
       "      <td>English</td>\n",
       "    </tr>\n",
       "    <tr>\n",
       "      <th>2</th>\n",
       "      <td>The study of nature is a large, if not the onl...</td>\n",
       "      <td>English</td>\n",
       "    </tr>\n",
       "    <tr>\n",
       "      <th>3</th>\n",
       "      <td>Although humans are part of nature, human acti...</td>\n",
       "      <td>English</td>\n",
       "    </tr>\n",
       "    <tr>\n",
       "      <th>4</th>\n",
       "      <td>[1] The word nature is borrowed from the Old F...</td>\n",
       "      <td>English</td>\n",
       "    </tr>\n",
       "  </tbody>\n",
       "</table>\n",
       "</div>"
      ],
      "text/plain": [
       "                                                Text Language\n",
       "0   Nature, in the broadest sense, is the natural...  English\n",
       "1  \"Nature\" can refer to the phenomena of the phy...  English\n",
       "2  The study of nature is a large, if not the onl...  English\n",
       "3  Although humans are part of nature, human acti...  English\n",
       "4  [1] The word nature is borrowed from the Old F...  English"
      ]
     },
     "execution_count": 6,
     "metadata": {},
     "output_type": "execute_result"
    }
   ],
   "source": [
    "#Checking First 5 and Last 5 values-\n",
    "\n",
    "data.head()"
   ]
  },
  {
   "cell_type": "code",
   "execution_count": 7,
   "id": "0517da11",
   "metadata": {},
   "outputs": [
    {
     "data": {
      "text/html": [
       "<div>\n",
       "<style scoped>\n",
       "    .dataframe tbody tr th:only-of-type {\n",
       "        vertical-align: middle;\n",
       "    }\n",
       "\n",
       "    .dataframe tbody tr th {\n",
       "        vertical-align: top;\n",
       "    }\n",
       "\n",
       "    .dataframe thead th {\n",
       "        text-align: right;\n",
       "    }\n",
       "</style>\n",
       "<table border=\"1\" class=\"dataframe\">\n",
       "  <thead>\n",
       "    <tr style=\"text-align: right;\">\n",
       "      <th></th>\n",
       "      <th>Text</th>\n",
       "      <th>Language</th>\n",
       "    </tr>\n",
       "  </thead>\n",
       "  <tbody>\n",
       "    <tr>\n",
       "      <th>10332</th>\n",
       "      <td>ನಿಮ್ಮ ತಪ್ಪು ಏನು ಬಂದಿದೆಯೆಂದರೆ ಆ ದಿನದಿಂದ ನಿಮಗೆ ಒ...</td>\n",
       "      <td>Kannada</td>\n",
       "    </tr>\n",
       "    <tr>\n",
       "      <th>10333</th>\n",
       "      <td>ನಾರ್ಸಿಸಾ ತಾನು ಮೊದಲಿಗೆ ಹೆಣಗಾಡುತ್ತಿದ್ದ ಮಾರ್ಗಗಳನ್...</td>\n",
       "      <td>Kannada</td>\n",
       "    </tr>\n",
       "    <tr>\n",
       "      <th>10334</th>\n",
       "      <td>ಹೇಗೆ ' ನಾರ್ಸಿಸಿಸಮ್ ಈಗ ಮರಿಯನ್ ಅವರಿಗೆ ಸಂಭವಿಸಿದ ಎ...</td>\n",
       "      <td>Kannada</td>\n",
       "    </tr>\n",
       "    <tr>\n",
       "      <th>10335</th>\n",
       "      <td>ಅವಳು ಈಗ ಹೆಚ್ಚು ಚಿನ್ನದ ಬ್ರೆಡ್ ಬಯಸುವುದಿಲ್ಲ ಎಂದು ...</td>\n",
       "      <td>Kannada</td>\n",
       "    </tr>\n",
       "    <tr>\n",
       "      <th>10336</th>\n",
       "      <td>ಟೆರ್ರಿ ನೀವು ನಿಜವಾಗಿಯೂ ಆ ದೇವದೂತನಂತೆ ಸ್ವಲ್ಪ ಕಾಣು...</td>\n",
       "      <td>Kannada</td>\n",
       "    </tr>\n",
       "  </tbody>\n",
       "</table>\n",
       "</div>"
      ],
      "text/plain": [
       "                                                    Text Language\n",
       "10332  ನಿಮ್ಮ ತಪ್ಪು ಏನು ಬಂದಿದೆಯೆಂದರೆ ಆ ದಿನದಿಂದ ನಿಮಗೆ ಒ...  Kannada\n",
       "10333  ನಾರ್ಸಿಸಾ ತಾನು ಮೊದಲಿಗೆ ಹೆಣಗಾಡುತ್ತಿದ್ದ ಮಾರ್ಗಗಳನ್...  Kannada\n",
       "10334  ಹೇಗೆ ' ನಾರ್ಸಿಸಿಸಮ್ ಈಗ ಮರಿಯನ್ ಅವರಿಗೆ ಸಂಭವಿಸಿದ ಎ...  Kannada\n",
       "10335  ಅವಳು ಈಗ ಹೆಚ್ಚು ಚಿನ್ನದ ಬ್ರೆಡ್ ಬಯಸುವುದಿಲ್ಲ ಎಂದು ...  Kannada\n",
       "10336  ಟೆರ್ರಿ ನೀವು ನಿಜವಾಗಿಯೂ ಆ ದೇವದೂತನಂತೆ ಸ್ವಲ್ಪ ಕಾಣು...  Kannada"
      ]
     },
     "execution_count": 7,
     "metadata": {},
     "output_type": "execute_result"
    }
   ],
   "source": [
    "data.tail()"
   ]
  },
  {
   "cell_type": "code",
   "execution_count": 8,
   "id": "07367311",
   "metadata": {},
   "outputs": [
    {
     "data": {
      "text/plain": [
       "(10337, 2)"
      ]
     },
     "execution_count": 8,
     "metadata": {},
     "output_type": "execute_result"
    }
   ],
   "source": [
    "data.shape"
   ]
  },
  {
   "cell_type": "code",
   "execution_count": 9,
   "id": "08a638fe",
   "metadata": {},
   "outputs": [
    {
     "data": {
      "text/plain": [
       "20674"
      ]
     },
     "execution_count": 9,
     "metadata": {},
     "output_type": "execute_result"
    }
   ],
   "source": [
    "data.size"
   ]
  },
  {
   "cell_type": "code",
   "execution_count": 10,
   "id": "8bf95210",
   "metadata": {},
   "outputs": [
    {
     "data": {
      "text/plain": [
       "Index(['Text', 'Language'], dtype='object')"
      ]
     },
     "execution_count": 10,
     "metadata": {},
     "output_type": "execute_result"
    }
   ],
   "source": [
    "#let’ see that what are columns available in our dataset.\n",
    "\n",
    "data.columns"
   ]
  },
  {
   "cell_type": "code",
   "execution_count": 11,
   "id": "84d9d71c",
   "metadata": {},
   "outputs": [
    {
     "data": {
      "text/plain": [
       "Language\n",
       "English       1385\n",
       "French        1014\n",
       "Spanish        819\n",
       "Portugeese     739\n",
       "Italian        698\n",
       "Russian        692\n",
       "Sweedish       676\n",
       "Malayalam      594\n",
       "Dutch          546\n",
       "Arabic         536\n",
       "Turkish        474\n",
       "German         470\n",
       "Tamil          469\n",
       "Danish         428\n",
       "Kannada        369\n",
       "Greek          365\n",
       "Hindi           63\n",
       "Name: count, dtype: int64"
      ]
     },
     "execution_count": 11,
     "metadata": {},
     "output_type": "execute_result"
    }
   ],
   "source": [
    "#Value count for each language-\n",
    "\n",
    "data[\"Language\"].value_counts()"
   ]
  },
  {
   "cell_type": "code",
   "execution_count": 12,
   "id": "52afdbc0",
   "metadata": {},
   "outputs": [
    {
     "data": {
      "text/html": [
       "<div>\n",
       "<style scoped>\n",
       "    .dataframe tbody tr th:only-of-type {\n",
       "        vertical-align: middle;\n",
       "    }\n",
       "\n",
       "    .dataframe tbody tr th {\n",
       "        vertical-align: top;\n",
       "    }\n",
       "\n",
       "    .dataframe thead th {\n",
       "        text-align: right;\n",
       "    }\n",
       "</style>\n",
       "<table border=\"1\" class=\"dataframe\">\n",
       "  <thead>\n",
       "    <tr style=\"text-align: right;\">\n",
       "      <th></th>\n",
       "      <th>count</th>\n",
       "      <th>unique</th>\n",
       "      <th>top</th>\n",
       "      <th>freq</th>\n",
       "    </tr>\n",
       "  </thead>\n",
       "  <tbody>\n",
       "    <tr>\n",
       "      <th>Text</th>\n",
       "      <td>10337</td>\n",
       "      <td>10267</td>\n",
       "      <td>Jag är ledsen.</td>\n",
       "      <td>3</td>\n",
       "    </tr>\n",
       "    <tr>\n",
       "      <th>Language</th>\n",
       "      <td>10337</td>\n",
       "      <td>17</td>\n",
       "      <td>English</td>\n",
       "      <td>1385</td>\n",
       "    </tr>\n",
       "  </tbody>\n",
       "</table>\n",
       "</div>"
      ],
      "text/plain": [
       "          count unique             top  freq\n",
       "Text      10337  10267  Jag är ledsen.     3\n",
       "Language  10337     17         English  1385"
      ]
     },
     "execution_count": 12,
     "metadata": {},
     "output_type": "execute_result"
    }
   ],
   "source": [
    "#To know more about the dataset with transpose – here T is for the transpose\n",
    "\n",
    "data.describe().T"
   ]
  },
  {
   "cell_type": "code",
   "execution_count": 13,
   "id": "d38473fc",
   "metadata": {},
   "outputs": [
    {
     "data": {
      "text/html": [
       "<div>\n",
       "<style scoped>\n",
       "    .dataframe tbody tr th:only-of-type {\n",
       "        vertical-align: middle;\n",
       "    }\n",
       "\n",
       "    .dataframe tbody tr th {\n",
       "        vertical-align: top;\n",
       "    }\n",
       "\n",
       "    .dataframe thead th {\n",
       "        text-align: right;\n",
       "    }\n",
       "</style>\n",
       "<table border=\"1\" class=\"dataframe\">\n",
       "  <thead>\n",
       "    <tr style=\"text-align: right;\">\n",
       "      <th></th>\n",
       "      <th>Text</th>\n",
       "      <th>Language</th>\n",
       "    </tr>\n",
       "  </thead>\n",
       "  <tbody>\n",
       "    <tr>\n",
       "      <th>0</th>\n",
       "      <td>False</td>\n",
       "      <td>False</td>\n",
       "    </tr>\n",
       "    <tr>\n",
       "      <th>1</th>\n",
       "      <td>False</td>\n",
       "      <td>False</td>\n",
       "    </tr>\n",
       "    <tr>\n",
       "      <th>2</th>\n",
       "      <td>False</td>\n",
       "      <td>False</td>\n",
       "    </tr>\n",
       "    <tr>\n",
       "      <th>3</th>\n",
       "      <td>False</td>\n",
       "      <td>False</td>\n",
       "    </tr>\n",
       "    <tr>\n",
       "      <th>4</th>\n",
       "      <td>False</td>\n",
       "      <td>False</td>\n",
       "    </tr>\n",
       "    <tr>\n",
       "      <th>5</th>\n",
       "      <td>False</td>\n",
       "      <td>False</td>\n",
       "    </tr>\n",
       "    <tr>\n",
       "      <th>6</th>\n",
       "      <td>False</td>\n",
       "      <td>False</td>\n",
       "    </tr>\n",
       "    <tr>\n",
       "      <th>7</th>\n",
       "      <td>False</td>\n",
       "      <td>False</td>\n",
       "    </tr>\n",
       "    <tr>\n",
       "      <th>8</th>\n",
       "      <td>False</td>\n",
       "      <td>False</td>\n",
       "    </tr>\n",
       "    <tr>\n",
       "      <th>9</th>\n",
       "      <td>False</td>\n",
       "      <td>False</td>\n",
       "    </tr>\n",
       "  </tbody>\n",
       "</table>\n",
       "</div>"
      ],
      "text/plain": [
       "    Text  Language\n",
       "0  False     False\n",
       "1  False     False\n",
       "2  False     False\n",
       "3  False     False\n",
       "4  False     False\n",
       "5  False     False\n",
       "6  False     False\n",
       "7  False     False\n",
       "8  False     False\n",
       "9  False     False"
      ]
     },
     "execution_count": 13,
     "metadata": {},
     "output_type": "execute_result"
    }
   ],
   "source": [
    "#let’s check that if our dataset have null values or not\n",
    "\n",
    "data.isnull().head(10)"
   ]
  },
  {
   "cell_type": "markdown",
   "id": "6ba9cfd6",
   "metadata": {},
   "source": [
    "### Separating Independent and Dependent features:"
   ]
  },
  {
   "cell_type": "markdown",
   "id": "81996d9d",
   "metadata": {},
   "source": [
    "Separating the dependent and independent variables, here text data is the independent variable and the language name is the dependent variable."
   ]
  },
  {
   "cell_type": "code",
   "execution_count": 14,
   "id": "b942d51a",
   "metadata": {},
   "outputs": [],
   "source": [
    "X = data[\"Text\"]\n",
    "y = data[\"Language\"]"
   ]
  },
  {
   "cell_type": "code",
   "execution_count": 15,
   "id": "4dc41c02",
   "metadata": {},
   "outputs": [
    {
     "name": "stdout",
     "output_type": "stream",
     "text": [
      "0         Nature, in the broadest sense, is the natural...\n",
      "1        \"Nature\" can refer to the phenomena of the phy...\n",
      "2        The study of nature is a large, if not the onl...\n",
      "3        Although humans are part of nature, human acti...\n",
      "4        [1] The word nature is borrowed from the Old F...\n",
      "                               ...                        \n",
      "10332    ನಿಮ್ಮ ತಪ್ಪು ಏನು ಬಂದಿದೆಯೆಂದರೆ ಆ ದಿನದಿಂದ ನಿಮಗೆ ಒ...\n",
      "10333    ನಾರ್ಸಿಸಾ ತಾನು ಮೊದಲಿಗೆ ಹೆಣಗಾಡುತ್ತಿದ್ದ ಮಾರ್ಗಗಳನ್...\n",
      "10334    ಹೇಗೆ ' ನಾರ್ಸಿಸಿಸಮ್ ಈಗ ಮರಿಯನ್ ಅವರಿಗೆ ಸಂಭವಿಸಿದ ಎ...\n",
      "10335    ಅವಳು ಈಗ ಹೆಚ್ಚು ಚಿನ್ನದ ಬ್ರೆಡ್ ಬಯಸುವುದಿಲ್ಲ ಎಂದು ...\n",
      "10336    ಟೆರ್ರಿ ನೀವು ನಿಜವಾಗಿಯೂ ಆ ದೇವದೂತನಂತೆ ಸ್ವಲ್ಪ ಕಾಣು...\n",
      "Name: Text, Length: 10337, dtype: object\n"
     ]
    }
   ],
   "source": [
    "print(X)"
   ]
  },
  {
   "cell_type": "code",
   "execution_count": 16,
   "id": "c42e2a9e",
   "metadata": {},
   "outputs": [
    {
     "name": "stdout",
     "output_type": "stream",
     "text": [
      "0        English\n",
      "1        English\n",
      "2        English\n",
      "3        English\n",
      "4        English\n",
      "          ...   \n",
      "10332    Kannada\n",
      "10333    Kannada\n",
      "10334    Kannada\n",
      "10335    Kannada\n",
      "10336    Kannada\n",
      "Name: Language, Length: 10337, dtype: object\n"
     ]
    }
   ],
   "source": [
    "print(y)"
   ]
  },
  {
   "cell_type": "markdown",
   "id": "a470ea1f",
   "metadata": {},
   "source": [
    "### Using Label Encoding:"
   ]
  },
  {
   "cell_type": "markdown",
   "id": "e73c8f0f",
   "metadata": {},
   "source": [
    "* Label encoding is a technique used in data preprocessing for machine learning tasks. It involves converting categorical data (data with labels or names for categories) into numerical labels. This is important because many machine learning algorithms can only work with numerical data.\n",
    "\n",
    "\n",
    "* For training the model we should have to convert it into a numerical form, so we are performing label encoding on that output variable. For this process, we are importing LabelEncoder from sklearn."
   ]
  },
  {
   "cell_type": "code",
   "execution_count": 17,
   "id": "25bbabd6",
   "metadata": {},
   "outputs": [],
   "source": [
    "from sklearn.preprocessing import LabelEncoder\n",
    "\n",
    "le = LabelEncoder()\n",
    "y = le.fit_transform(y)"
   ]
  },
  {
   "cell_type": "code",
   "execution_count": 18,
   "id": "f7c559a4",
   "metadata": {},
   "outputs": [
    {
     "name": "stdout",
     "output_type": "stream",
     "text": [
      "[3 3 3 ... 9 9 9]\n"
     ]
    }
   ],
   "source": [
    "print(y)"
   ]
  },
  {
   "cell_type": "markdown",
   "id": "f1a8388e",
   "metadata": {},
   "source": [
    "### Text Preprocessing:"
   ]
  },
  {
   "cell_type": "markdown",
   "id": "254cbe71",
   "metadata": {},
   "source": [
    "* Text preprocessing is a crucial first step in Natural Language Processing (NLP) tasks. It involves cleaning, transforming, and preparing raw textual data  into a format that's suitable for analysis or modeling by machines.\n",
    "\n",
    "\n",
    "* This is a dataset created using scraping the Wikipedia, so it contains many unwanted symbols, numbers which will affect the quality of our model. So we should perform text preprocessing techniques."
   ]
  },
  {
   "cell_type": "code",
   "execution_count": 19,
   "id": "a17a2b99",
   "metadata": {},
   "outputs": [],
   "source": [
    "#Creating a list for appending the preprocessed text-\n",
    "\n",
    "data_list = []"
   ]
  },
  {
   "cell_type": "code",
   "execution_count": 20,
   "id": "25aa7dbf",
   "metadata": {},
   "outputs": [],
   "source": [
    "#Iterating through all the text-\n",
    "\n",
    "for text in X:\n",
    "\n",
    "       # removing the symbols and numbers\n",
    "        text = re.sub(r'[!@#$(),n\"%^*?:;~`0-9]', ' ', text)\n",
    "        text = re.sub(r'[[]]', ' ', text)\n",
    "\n",
    "        # converting the text to lower case\n",
    "        text = text.lower()\n",
    "        \n",
    "        # appending to data_list\n",
    "        data_list.append(text)"
   ]
  },
  {
   "cell_type": "markdown",
   "id": "af85b098",
   "metadata": {},
   "source": [
    "### Bag of Words:"
   ]
  },
  {
   "cell_type": "markdown",
   "id": "964f74a7",
   "metadata": {},
   "source": [
    "As we all know that, not only the output feature but also the input feature should be of the numerical form. So we are converting text into numerical form by creating a Bag of Words model using CountVectorizer."
   ]
  },
  {
   "cell_type": "code",
   "execution_count": 21,
   "id": "b4dcc9ab",
   "metadata": {},
   "outputs": [],
   "source": [
    "from sklearn.feature_extraction.text import CountVectorizer\n",
    "\n",
    "cv = CountVectorizer()\n",
    "X = cv.fit_transform(data_list).toarray()"
   ]
  },
  {
   "cell_type": "code",
   "execution_count": 22,
   "id": "842b6f3f",
   "metadata": {},
   "outputs": [
    {
     "name": "stdout",
     "output_type": "stream",
     "text": [
      "[[0 0 0 ... 0 0 0]\n",
      " [0 0 0 ... 0 0 0]\n",
      " [0 0 0 ... 0 0 0]\n",
      " ...\n",
      " [0 0 0 ... 0 0 0]\n",
      " [0 0 0 ... 0 0 0]\n",
      " [0 0 0 ... 0 0 0]]\n"
     ]
    }
   ],
   "source": [
    "print(X)"
   ]
  },
  {
   "cell_type": "code",
   "execution_count": 23,
   "id": "a72c40b4",
   "metadata": {},
   "outputs": [
    {
     "data": {
      "text/plain": [
       "(10337, 34937)"
      ]
     },
     "execution_count": 23,
     "metadata": {},
     "output_type": "execute_result"
    }
   ],
   "source": [
    "X.shape "
   ]
  },
  {
   "cell_type": "markdown",
   "id": "3ea5b601",
   "metadata": {},
   "source": [
    "### Train Test Splitting:"
   ]
  },
  {
   "cell_type": "markdown",
   "id": "2ee3b3c2",
   "metadata": {},
   "source": [
    "Train-test splitting is a fundamental technique used in machine learning to assess how well a model will perform on unseen data. It involves dividing your dataset into two subsets:\n",
    "\n",
    "* Training set: This is the larger portion of the data used to train your machine learning model. The model learns patterns and relationships from the training data to make predictions.\n",
    "* Test set: This is a separate, unseen portion of the data used to evaluate the model's performance on new data it hasn't encountered during training. Ideally, the test set should be representative of the real-world data the model will be used on."
   ]
  },
  {
   "cell_type": "code",
   "execution_count": 24,
   "id": "a3032a47",
   "metadata": {},
   "outputs": [],
   "source": [
    "from sklearn.model_selection import train_test_split\n",
    "\n",
    "x_train, x_test, y_train, y_test = train_test_split(X, y, test_size = 0.20)"
   ]
  },
  {
   "cell_type": "code",
   "execution_count": 25,
   "id": "3f68b26d",
   "metadata": {},
   "outputs": [
    {
     "name": "stdout",
     "output_type": "stream",
     "text": [
      "\n",
      "X_train:\n",
      " [[0 0 0 ... 0 0 0]\n",
      " [0 0 0 ... 0 0 0]\n",
      " [0 0 0 ... 0 0 0]\n",
      " ...\n",
      " [0 0 0 ... 0 0 0]\n",
      " [0 0 0 ... 0 0 0]\n",
      " [0 0 0 ... 0 0 0]]\n",
      "\n",
      "X_test:\n",
      " [[0 0 0 ... 0 0 0]\n",
      " [0 0 0 ... 0 0 0]\n",
      " [0 0 0 ... 0 0 0]\n",
      " ...\n",
      " [0 0 0 ... 0 0 0]\n",
      " [0 0 0 ... 0 0 0]\n",
      " [0 0 0 ... 0 0 0]]\n",
      "\n",
      "Y_train:\n",
      " [11  4  6 ...  9 10 11]\n",
      "\n",
      "Y_test:\n",
      " [ 8  5 10 ... 15  4  8]\n"
     ]
    }
   ],
   "source": [
    "print('\\nX_train:\\n', x_train)\n",
    "print('\\nX_test:\\n',x_test)\n",
    "print('\\nY_train:\\n',y_train)\n",
    "print('\\nY_test:\\n',y_test)"
   ]
  },
  {
   "cell_type": "markdown",
   "id": "9318fa67",
   "metadata": {},
   "source": [
    "### Model Training and Prediction:"
   ]
  },
  {
   "cell_type": "code",
   "execution_count": 2,
   "id": "4aaa473f",
   "metadata": {
    "scrolled": true
   },
   "outputs": [
    {
     "ename": "NameError",
     "evalue": "name 'x_train' is not defined",
     "output_type": "error",
     "traceback": [
      "\u001b[1;31m---------------------------------------------------------------------------\u001b[0m",
      "\u001b[1;31mNameError\u001b[0m                                 Traceback (most recent call last)",
      "Cell \u001b[1;32mIn[2], line 4\u001b[0m\n\u001b[0;32m      1\u001b[0m \u001b[38;5;28;01mfrom\u001b[39;00m \u001b[38;5;21;01msklearn\u001b[39;00m\u001b[38;5;21;01m.\u001b[39;00m\u001b[38;5;21;01mnaive_bayes\u001b[39;00m \u001b[38;5;28;01mimport\u001b[39;00m MultinomialNB\n\u001b[0;32m      3\u001b[0m model \u001b[38;5;241m=\u001b[39m MultinomialNB()\n\u001b[1;32m----> 4\u001b[0m model\u001b[38;5;241m.\u001b[39mfit(x_train, y_train)\n",
      "\u001b[1;31mNameError\u001b[0m: name 'x_train' is not defined"
     ]
    }
   ],
   "source": [
    "from sklearn.naive_bayes import MultinomialNB\n",
    "\n",
    "model = MultinomialNB()\n",
    "model.fit(x_train, y_train)"
   ]
  },
  {
   "cell_type": "markdown",
   "id": "b54655fc",
   "metadata": {},
   "source": [
    "MultinomialNB class from the naive_bayes submodule of the scikit-learn library. The MultinomialNB class implements the Naive Bayes algorithm specifically suited for classifying data represented by word counts, which is common in text classification tasks."
   ]
  },
  {
   "cell_type": "code",
   "execution_count": 27,
   "id": "05c5a975",
   "metadata": {},
   "outputs": [],
   "source": [
    "#predict the output for the test set-\n",
    "\n",
    "y_pred = model.predict(x_test)"
   ]
  },
  {
   "cell_type": "code",
   "execution_count": 28,
   "id": "e946c4a5",
   "metadata": {},
   "outputs": [
    {
     "name": "stdout",
     "output_type": "stream",
     "text": [
      "[ 8  5 10 ... 15  4  8]\n"
     ]
    }
   ],
   "source": [
    "print(y_pred)"
   ]
  },
  {
   "cell_type": "markdown",
   "id": "78a80ada",
   "metadata": {},
   "source": [
    "### Model Evaluation:"
   ]
  },
  {
   "cell_type": "code",
   "execution_count": 29,
   "id": "c7c27eea",
   "metadata": {},
   "outputs": [],
   "source": [
    "from sklearn.metrics import accuracy_score, confusion_matrix, classification_report\n",
    "\n",
    "ac = accuracy_score(y_test, y_pred)\n",
    "cm = confusion_matrix(y_test, y_pred)\n",
    "cr = classification_report(y_test, y_pred)"
   ]
  },
  {
   "cell_type": "code",
   "execution_count": 30,
   "id": "ec5a7d75",
   "metadata": {},
   "outputs": [
    {
     "name": "stdout",
     "output_type": "stream",
     "text": [
      "Accuracy is : 0.9758220502901354\n"
     ]
    }
   ],
   "source": [
    "#Accuracy-\n",
    "\n",
    "print(\"Accuracy is :\",ac)"
   ]
  },
  {
   "cell_type": "code",
   "execution_count": 31,
   "id": "a5d1f562",
   "metadata": {},
   "outputs": [
    {
     "name": "stdout",
     "output_type": "stream",
     "text": [
      "Confusion Matrix is : [[ 85   0   0   2   0   0   0   0   0   0   0   0   0   0   0   0   0]\n",
      " [  0  88   0   4   0   0   0   0   0   0   0   0   0   0   3   0   0]\n",
      " [  0   0  91   0   0   1   0   0   0   0   0   0   0   0   0   0   0]\n",
      " [  0   0   0 305   0   0   0   0   1   0   0   0   0   0   0   0   0]\n",
      " [  0   0   0   3 200   0   0   0   0   0   0   0   0   0   0   0   0]\n",
      " [  0   0   0   2   1 102   0   0   0   0   0   0   0   0   0   0   0]\n",
      " [  0   0   0   3   0   0  74   0   0   0   0   0   0   0   0   0   0]\n",
      " [  0   0   0   0   0   0   0  10   0   0   0   0   0   0   0   0   0]\n",
      " [  0   0   0   1   0   0   0   0 141   0   0   1   0   3   0   0   0]\n",
      " [  0   0   0   3   0   0   0   0   0  75   0   0   0   0   0   0   0]\n",
      " [  0   0   0   2   0   0   0   0   0   0 112   0   0   0   0   0   0]\n",
      " [  0   0   0   3   1   0   0   0   1   0   0 145   0   0   0   0   0]\n",
      " [  0   0   0   4   1   0   0   0   0   0   0   0 131   1   0   0   0]\n",
      " [  0   0   0   3   0   0   0   0   1   0   0   1   0 152   0   0   0]\n",
      " [  0   0   0   2   0   0   0   0   0   0   0   0   0   0 133   0   0]\n",
      " [  0   0   0   1   0   0   0   0   0   0   0   0   0   0   0  73   0]\n",
      " [  0   0   0   0   0   1   0   0   0   0   0   0   0   0   0   0 101]]\n"
     ]
    }
   ],
   "source": [
    "#Confusion Matrix-\n",
    "\n",
    "print(\"Confusion Matrix is :\",cm)"
   ]
  },
  {
   "cell_type": "markdown",
   "id": "3ca9ebec",
   "metadata": {},
   "source": [
    "A confusion matrix is a table that visualizes the performance of a classification model. It allows you to see how many predictions were correct and incorrect for each class. "
   ]
  },
  {
   "cell_type": "code",
   "execution_count": 32,
   "id": "3261f5cb",
   "metadata": {},
   "outputs": [
    {
     "name": "stdout",
     "output_type": "stream",
     "text": [
      "Classification report is :               precision    recall  f1-score   support\n",
      "\n",
      "           0       1.00      0.98      0.99        87\n",
      "           1       1.00      0.93      0.96        95\n",
      "           2       1.00      0.99      0.99        92\n",
      "           3       0.90      1.00      0.95       306\n",
      "           4       0.99      0.99      0.99       203\n",
      "           5       0.98      0.97      0.98       105\n",
      "           6       1.00      0.96      0.98        77\n",
      "           7       1.00      1.00      1.00        10\n",
      "           8       0.98      0.97      0.97       146\n",
      "           9       1.00      0.96      0.98        78\n",
      "          10       1.00      0.98      0.99       114\n",
      "          11       0.99      0.97      0.98       150\n",
      "          12       1.00      0.96      0.98       137\n",
      "          13       0.97      0.97      0.97       157\n",
      "          14       0.98      0.99      0.98       135\n",
      "          15       1.00      0.99      0.99        74\n",
      "          16       1.00      0.99      1.00       102\n",
      "\n",
      "    accuracy                           0.98      2068\n",
      "   macro avg       0.99      0.97      0.98      2068\n",
      "weighted avg       0.98      0.98      0.98      2068\n",
      "\n"
     ]
    }
   ],
   "source": [
    "#Classification_report-\n",
    "\n",
    "print(\"Classification report is :\",cr)"
   ]
  },
  {
   "cell_type": "code",
   "execution_count": 33,
   "id": "038ef432",
   "metadata": {},
   "outputs": [
    {
     "data": {
      "image/png": "[encoded data removed]",
      "text/plain": [
       "<Figure size 1500x1000 with 2 Axes>"
      ]
     },
     "metadata": {},
     "output_type": "display_data"
    }
   ],
   "source": [
    "#Plot the confusion matrix using the seaborn heatmap-\n",
    "\n",
    "plt.figure(figsize=(15,10))\n",
    "sns.heatmap(cm, annot = True)\n",
    "plt.show()"
   ]
  },
  {
   "cell_type": "markdown",
   "id": "137ba5da",
   "metadata": {},
   "source": [
    "### Predicting Some more Data:"
   ]
  },
  {
   "cell_type": "markdown",
   "id": "41003040",
   "metadata": {},
   "source": [
    "Testing the model prediction using text in different languages."
   ]
  },
  {
   "cell_type": "code",
   "execution_count": 34,
   "id": "e128e7a3",
   "metadata": {},
   "outputs": [],
   "source": [
    "def predict(text):\n",
    "    x = cv.transform([text]).toarray()\n",
    "    lang = model.predict(x)\n",
    "    lang = le.inverse_transform(lang)\n",
    "    print(\"The langauge is in\",lang[0])"
   ]
  },
  {
   "cell_type": "code",
   "execution_count": 35,
   "id": "9aaa44e3",
   "metadata": {},
   "outputs": [
    {
     "name": "stdout",
     "output_type": "stream",
     "text": [
      "The langauge is in English\n"
     ]
    }
   ],
   "source": [
    "predict(\"How are you?\")"
   ]
  },
  {
   "cell_type": "code",
   "execution_count": 36,
   "id": "5d688ebe",
   "metadata": {},
   "outputs": [
    {
     "name": "stdout",
     "output_type": "stream",
     "text": [
      "The langauge is in French\n"
     ]
    }
   ],
   "source": [
    "predict(\"Je te rencontre au café.\")"
   ]
  },
  {
   "cell_type": "code",
   "execution_count": 37,
   "id": "a52e0068",
   "metadata": {},
   "outputs": [
    {
     "name": "stdout",
     "output_type": "stream",
     "text": [
      "The langauge is in Arabic\n"
     ]
    }
   ],
   "source": [
    "predict(\"كيف حالك\")"
   ]
  },
  {
   "cell_type": "code",
   "execution_count": 38,
   "id": "840138d4",
   "metadata": {},
   "outputs": [
    {
     "name": "stdout",
     "output_type": "stream",
     "text": [
      "The langauge is in Spanish\n"
     ]
    }
   ],
   "source": [
    "predict(\"cumplir su condena\")"
   ]
  },
  {
   "cell_type": "code",
   "execution_count": 39,
   "id": "633b422d",
   "metadata": {},
   "outputs": [
    {
     "name": "stdout",
     "output_type": "stream",
     "text": [
      "The langauge is in Malayalam\n"
     ]
    }
   ],
   "source": [
    "predict(\"മലയാളം : ഇന്ത്യൻ സംസ്ഥാനമായ കേരളത്തിലും കേന്ദ്രഭരണ പ്രദേശങ്ങളായ ലക്ഷദ്വീപിലെയും\")"
   ]
  },
  {
   "cell_type": "code",
   "execution_count": 40,
   "id": "51ade944",
   "metadata": {},
   "outputs": [
    {
     "name": "stdout",
     "output_type": "stream",
     "text": [
      "The langauge is in Russian\n"
     ]
    }
   ],
   "source": [
    "predict(\"Скажите пожалуйста, как пройти в палату?\")"
   ]
  },
  {
   "cell_type": "code",
   "execution_count": 41,
   "id": "49822528",
   "metadata": {},
   "outputs": [
    {
     "name": "stdout",
     "output_type": "stream",
     "text": [
      "The langauge is in Greek\n"
     ]
    }
   ],
   "source": [
    "predict(\"Ναι, ευχαριστώ.\")"
   ]
  },
  {
   "cell_type": "markdown",
   "id": "c0d06299",
   "metadata": {},
   "source": [
    "## Thank You"
   ]
  }
 ],
 "metadata": {
  "kernelspec": {
   "display_name": "Python 3 (ipykernel)",
   "language": "python",
   "name": "python3"
  },
  "language_info": {
   "codemirror_mode": {
    "name": "ipython",
    "version": 3
   },
   "file_extension": ".py",
   "mimetype": "text/x-python",
   "name": "python",
   "nbconvert_exporter": "python",
   "pygments_lexer": "ipython3",
   "version": "3.11.5"
  }
 },
 "nbformat": 4,
 "nbformat_minor": 5
}
